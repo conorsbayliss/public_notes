{
 "cells": [
  {
   "cell_type": "markdown",
   "metadata": {},
   "source": [
    "# **Irrational Saving**\n",
    "## **Time inconsistent preferences & hyperbolic discounting**"
   ]
  },
  {
   "cell_type": "markdown",
   "metadata": {},
   "source": [
    "## *Conor Bayliss*"
   ]
  },
  {
   "cell_type": "markdown",
   "metadata": {},
   "source": [
    "### **Setup**\n",
    "- There is a household who lives for 3 periods. \n",
    "- He was $w$ units of wealth with which to finance conusmption in $t = 1,2,3$.\n",
    "- Saving is possible.\n",
    "- In our simple example, let $R=1$.\n",
    "- Feasibility constraint:\n",
    "$$\n",
    "c_1+c_2+c_3 = w\n",
    "$$\n",
    "***Lack of self control:***\n",
    "- Preferences in each period are\n",
    "$$\n",
    "1. \\quad U_1 = u(c_1) + \\delta[\\beta u(c_2)+ \\beta^2 u(c_3)] \\\\\n",
    "2. \\quad U_2 = u(c_2) + \\delta \\beta u(c_3) \\\\\n",
    "3. \\quad U_3 = u(c_3)\n",
    "$$\n",
    "- The critical feature of the model is that 1. and 2. disagree about the marginal rate of substitution between consumption at $t=2$ and $3$.To see this, consider that\n",
    "$$\n",
    "\\frac{U_{1,2}}{U_{1,3}} = \\frac{\\delta \\beta u'(c_2)}{\\delta \\beta^2 u'(c_3)} = \\frac{u'(c_2)}{\\beta u'(c_3)}\n",
    "$$\n",
    "$$\n",
    "\\frac{U_{2,2}}{U_{2,3}} = \\frac{u'(c_2)}{\\delta \\beta u'(c_3)}\n",
    "$$\n",
    "where the first subscript indicates the time period today and the second indicates the period which we are taking the derivative with respect to. Note that $\\delta<1$ is the usual calibration. If $\\delta=1$ then there is no issue."
   ]
  },
  {
   "cell_type": "markdown",
   "metadata": {},
   "source": [
    "There are two versions of this game.\n",
    "1. ***Commitment:*** The agent in the first period chooses the entire allocation: $\\{c^*_1,c^*_2,c^*_3\\}$\n",
    "2. ***No commitment:*** The first agent chooses $\\{c^{1}_1,c^{1}_2,c^{1}_3\\}$, the second chooses $\\{c^{2}_2,c^{2}_3\\}$ and the third chooses $\\{c^{3}_3\\}$ \n",
    "\n",
    "\n",
    "We will consider subgame perfect equilibria."
   ]
  },
  {
   "cell_type": "markdown",
   "metadata": {},
   "source": [
    "#### ***Commitment***"
   ]
  },
  {
   "cell_type": "markdown",
   "metadata": {},
   "source": [
    "We will deal with $\\log$ utility."
   ]
  },
  {
   "cell_type": "markdown",
   "metadata": {},
   "source": [
    "Agent 1 solves the following problem\n",
    "$$\n",
    "\\max_{\\{c_1,c_2,c_3\\}} \\log(c_1) + \\delta\\left[\\beta \\log(c_2)+\\beta^2\\log(c_3)\\right] \\\\\n",
    "s.t. \\quad c_1+c_2+c_3 = w \\\\\n",
    "$$\n",
    "The first-order conditions are\n",
    "$$\n",
    "\\left[c_1\\right]: \\frac{1}{c_1} = \\lambda \\quad \\left[c_2\\right]: \\frac{\\delta\\beta}{c_2} = \\lambda \\quad \\left[c_3\\right]: \\frac{\\delta\\beta^2}{c_3} = \\lambda\n",
    "$$\n",
    "and so\n",
    "$$\n",
    "\\left[c_1\\right]: \\frac{1}{\\lambda} = c_1 \\quad \\left[c_2\\right]: \\frac{\\delta\\beta}{\\lambda} = c_2 \\quad \\left[c_3\\right]: \\frac{\\delta\\beta^2}{\\lambda} = c_3\n",
    "$$\n",
    "and then, using the resource constraint we see\n",
    "$$\n",
    "\\frac{1}{\\lambda} + \\frac{\\delta\\beta}{\\lambda} + \\frac{\\delta\\beta^2}{\\lambda} = w\n",
    "$$\n",
    "$$\n",
    "\\implies \\frac{1+\\delta\\beta+\\delta\\beta^2}{\\lambda}  = w\n",
    "$$\n",
    "and so\n",
    "$$\n",
    "c^*_1 = \\frac{w}{1+\\delta\\beta+\\delta\\beta^2}\n",
    "$$\n",
    "$$\n",
    "c^*_2 = \\frac{\\delta\\beta w}{1+\\delta\\beta+\\delta\\beta^2}\n",
    "$$\n",
    "$$\n",
    "c^*_3 = \\frac{\\delta\\beta^2 w}{1+\\delta\\beta+\\delta\\beta^2}.\n",
    "$$\n",
    "Saving is therefore\n",
    "$$\n",
    "s^*_1 = w - c^*_1, \\quad s^*_2 = w-c^*_1 - c^*_2\n",
    "$$\n",
    "$$\n",
    "\\implies s^*_1 = \\frac{\\left[\\delta\\beta+\\delta\\beta^2 \\right]w}{1+\\delta\\beta+\\delta\\beta^2}, \\quad s^*_2 = \\frac{\\delta\\beta^2w}{1+\\delta\\beta+\\delta\\beta^2}.\n",
    "$$"
   ]
  },
  {
   "cell_type": "markdown",
   "metadata": {},
   "source": [
    "#### ***No Commitment***"
   ]
  },
  {
   "cell_type": "markdown",
   "metadata": {},
   "source": [
    "We solve by backward induction.\n",
    "\n",
    "***Stage 3***\n",
    "\n",
    "Agent 3 solves the followiing problem\n",
    "$$\n",
    "\\max_{\\{c_3\\}} \\log(c_3) \\\\\n",
    "s.t. \\quad c_3\\leq s_2\n",
    "$$\n",
    "so, ofcourse, $c^{NC}_3 = s_2$.\n",
    "\n",
    "***Stage 2***\n",
    "\n",
    "Agent 2 solves\n",
    "$$\n",
    "\\max_{\\{c_2,s_2\\}} \\log(c_2)+\\delta \\beta\\log(s_2)\\\\\n",
    "s.t. \\quad c_2+s_2 \\leq s_1\n",
    "$$\n",
    "and the first-order conditions are\n",
    "$$\n",
    "\\left[c_2\\right]: \\frac{1}{c_2} = \\mu \\quad \\left[s_2\\right]: \\frac{\\delta\\beta}{s_2} = \\mu \n",
    "$$\n",
    "which gives\n",
    "$$\n",
    "s_2 = \\delta\\beta c_2.\n",
    "$$\n",
    "Plugging this into the budget constraint\n",
    "$$\n",
    "c^{NC}_2(1+\\delta\\beta) = s_1 \\implies c_2^{NC} = \\frac{s_1}{1+\\delta\\beta} \\implies s_2^{NC} = \\frac{s_1\\delta\\beta}{1+\\delta\\beta}.\n",
    "$$\n",
    "\n",
    "***Stage 1***\n",
    "\n",
    "Finally, agent 1 solves\n",
    "$$\n",
    "\\max_{\\{c_1,s_1\\}} \\log(c_1) + \\delta \\left[\\beta \\log(\\frac{s_1}{1+\\delta\\beta})+ \\beta^2\\log(\\frac{s_1\\delta\\beta}{1+\\delta\\beta}) \\right] \\\\\n",
    "s.t. \\quad c_1 + s_1 \\leq w\n",
    "$$\n",
    "where we notice that agent 1 takes as given the decisions of the later agents. The first-order conditions are\n",
    "$$\n",
    "\\left[c_1 \\right]: \\frac{1}{c_1} = \\xi \\quad \\left[s_1 \\right]: \\frac{\\delta \\beta}{s_1} + \\frac{\\delta\\beta^2}{s_1} = \\xi\n",
    "$$\n",
    "and so\n",
    "$$\n",
    "s_1 = c_1 \\delta\\beta(1+\\beta)\n",
    "$$\n",
    "which, using the budget constraint\n",
    "$$\n",
    "c_1 + c_1\\left[\\delta\\beta+\\delta\\beta^2 \\right] = w\n",
    "$$\n",
    "$$\n",
    "\\implies c_1^{NC} = \\frac{w}{1+\\delta\\beta+\\delta\\beta^2}\n",
    "$$\n",
    "$$\n",
    "\\implies s^{NC}_1 = \\frac{\\left[\\delta\\beta+\\delta\\beta^2\\right]w}{1+\\delta\\beta+\\delta\\beta^2}.\n",
    "$$\n",
    "Then, using what we found from agent 2 and 3, we see\n",
    "$$\n",
    "c^{NC}_2 = \\frac{s_1^1}{1+\\delta\\beta} = \\frac{1}{1+\\delta\\beta}\\left[\\frac{\\left[\\delta\\beta+\\delta\\beta^2 \\right]w}{1+\\delta\\beta+\\delta\\beta^2} \\right] \\\\\n",
    "$$\n",
    "$$\n",
    "c^{NC}_3 = s^{NC}_2 = \\frac{s_1^{NC}\\delta\\beta}{1+\\delta\\beta} = \\frac{\\delta\\beta}{1+\\delta\\beta}\\left[\\frac{\\left[\\delta\\beta+\\delta\\beta^2 \\right]w}{1+\\delta\\beta+\\delta\\beta^2} \\right]. \\\\\n",
    "$$"
   ]
  },
  {
   "cell_type": "markdown",
   "metadata": {},
   "source": [
    "So, let's collect our findings so far and take a look at what we found\n",
    "$$\n",
    "\n",
    "$$"
   ]
  },
  {
   "cell_type": "markdown",
   "metadata": {},
   "source": []
  }
 ],
 "metadata": {
  "language_info": {
   "name": "python"
  }
 },
 "nbformat": 4,
 "nbformat_minor": 2
}
