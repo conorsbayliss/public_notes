{
 "cells": [
  {
   "cell_type": "markdown",
   "metadata": {},
   "source": [
    "# **Intermediate Goods Taxation** "
   ]
  },
  {
   "cell_type": "markdown",
   "metadata": {},
   "source": [
    "## *Conor Bayliss*"
   ]
  },
  {
   "cell_type": "markdown",
   "metadata": {},
   "source": [
    "### **Spring 2024**"
   ]
  },
  {
   "cell_type": "markdown",
   "metadata": {},
   "source": [
    "In these notes, we prove the classic intermediate-goods result using a simple example."
   ]
  },
  {
   "cell_type": "markdown",
   "metadata": {},
   "source": [
    "Recall the standard result in public finance that, under a variety of circumstances, an optimal tax system maintains aggregate production efficiency [see Diamond and Mirrlees (1971)]."
   ]
  },
  {
   "cell_type": "markdown",
   "metadata": {},
   "source": [
    "In the context of an economy with multiple production sectors, transactions between firms can be taxed. Taxing such transactions distorts the relation between the marginal rate of transformation in one sector and the marginal rate of transformation in another. This yields production inefficiency, and hence the standard result immediately implies that such transactions should not be taxed."
   ]
  },
  {
   "cell_type": "markdown",
   "metadata": {},
   "source": [
    "##### **Description of the economy**"
   ]
  },
  {
   "cell_type": "markdown",
   "metadata": {},
   "source": [
    "In this economy, there are three final goods:\n",
    "* private consumption, *c*\n",
    "* government consumption, *g*, and\n",
    "* labour, *l*.\n",
    "\n",
    "There is also one intermediate good, indexed by $z$.\n",
    "In this economy, the Ramsey planner has taxes on consumption and the intermediate good at his disposal, denoted by $\\tau_c$ and $\\tau_z$ respectively. There is no labour income tax. That is, $\\tau_n= 0$.\n",
    "Preferences are of the form:\n",
    "$$\n",
    "U(c,1-l)\n",
    "$$\n",
    "where $c$ is consumption and $l$ is total labour supplied to the economy across the intermediate and final goods sectors."
   ]
  },
  {
   "cell_type": "markdown",
   "metadata": {},
   "source": [
    "The final good firm produces $c$ using the intermediate good $z$ and labour $l_1$ according to the constant returns to scale production function:\n",
    "$$\n",
    "f(c,z,l_1) \\leq 0.\n",
    "$$\n",
    "Similarly, the intermediate good firm produces $z$ and $g$ using labour $l_2$ according to the production function:\n",
    "$$\n",
    "h(z,g,l_2) \\leq 0\n",
    "$$\n",
    "which is also constant returns to scale.\n"
   ]
  },
  {
   "cell_type": "markdown",
   "metadata": {},
   "source": [
    "##### **Consumer's problem**"
   ]
  },
  {
   "cell_type": "markdown",
   "metadata": {},
   "source": [
    "The consumer maximises utility subject to their budget constraint. Specifically, they solve\n",
    "$$\n",
    "\\max_{\\{c,l_1,l_2\\}} U(c, 1-(l_1+l_2))\n",
    "$$\n",
    "$$\n",
    "s.t. \\quad p(1+\\tau_c)c \\leq w(l_1+l_2)\n",
    "$$\n",
    "where $p$ is the price of the final good and $w$ is the wage."
   ]
  },
  {
   "cell_type": "markdown",
   "metadata": {},
   "source": [
    "##### **Final good firm's problem**"
   ]
  },
  {
   "cell_type": "markdown",
   "metadata": {},
   "source": [
    "The final good firm solves the following problem\n",
    "$$\n",
    "\\max_{\\{c,l_1,z\\}} pc - wl_1 - q(1+\\tau_z)z\n",
    "$$\n",
    "$$\n",
    "s.t. \\quad f(c,z,l_1) \\leq 0.\n",
    "$$\n",
    "Note that $q$ is the price of the intermediate good in this economy."
   ]
  },
  {
   "cell_type": "markdown",
   "metadata": {},
   "source": [
    "##### **Intermediate good firm's problem**"
   ]
  },
  {
   "cell_type": "markdown",
   "metadata": {},
   "source": [
    "The intermediate firm solves \n",
    "$$\n",
    "\\max_{\\{z,g,l_2 \\}} qz + rg - wl_2 \n",
    "$$\n",
    "$$\n",
    "s.t. \\quad h(z,g,l_2) \\leq 0\n",
    "$$\n",
    "where $r$ is the price of the government consumption good."
   ]
  },
  {
   "cell_type": "markdown",
   "metadata": {},
   "source": [
    "##### **Plan of attack**"
   ]
  },
  {
   "cell_type": "markdown",
   "metadata": {},
   "source": [
    "We will proceed in the following manner:\n",
    "* *(1)* Solve the household's problem and derive the implementability constraint\n",
    "* *(2)* Setup the Ramsey planner's problem and solve for an optimal production condition\n",
    "* *(3)* Find the optimal production decisions for the firms in the decentralised economy\n",
    "* *(4)* Compare the two sets of conditions and find that $\\tau_z=0$ is optimal."
   ]
  },
  {
   "cell_type": "markdown",
   "metadata": {},
   "source": [
    "##### **Household Optimality**"
   ]
  },
  {
   "cell_type": "markdown",
   "metadata": {},
   "source": [
    "Setup the Lagrangian for the household\n",
    "$$\n",
    "\\mathcal{L} = U(c,1-(l_1+l_2)) + \\lambda \\left[w(l_1+l_2) - p(1+\\tau_c)c \\right]\n",
    "$$\n",
    "and take first-order conditions\n",
    "$$\n",
    "\\left[c\\right]: \\frac{\\partial \\mathcal{L}}{\\partial c} = 0 \\implies U_c = \\lambda p(1+\\tau_c)\n",
    "$$\n",
    "$$\n",
    "\\left[l_1\\right]: \\frac{\\partial \\mathcal{L}}{\\partial l_1} = 0 \\implies -U_l + \\lambda w = 0  \\implies U_l = \\lambda w \n",
    "$$\n",
    "$$\n",
    "\\left[l_2\\right]: \\frac{\\partial \\mathcal{L}}{\\partial l_2} = 0 \\implies -U_l + \\lambda w = 0 \\implies U_l = \\lambda w \n",
    "$$\n",
    "and so, plugging these optimality conditions into the household's budget constraint gives us \n",
    "$$\n",
    "cU_c = U_l (l_1+l_2) \\implies cU_c - U_l (l_1+l_2) = 0\n",
    "$$\n",
    "which is our implementability constraint in this economy."
   ]
  },
  {
   "cell_type": "markdown",
   "metadata": {},
   "source": [
    "##### **Ramsey problem**\n",
    "\n",
    "Using this, we can setup the Ramsey problem. As usual, the problem of the Ramsey planner is to find the competitive equilibrium which maximises welfare. To do so, the planner maximises welfare subject to the implementability constraint and the resource constraints."
   ]
  },
  {
   "cell_type": "markdown",
   "metadata": {},
   "source": [
    "The Ramsey planner solves\n",
    "$$\n",
    "\\max_{\\{c,z,l_1,l_2\\}} U(c,1-(l_1+l_2))\n",
    "$$\n",
    "$$\n",
    "s.t. \\quad cU_c - U_l(l_1+l_2) = 0\n",
    "$$\n",
    "$$\n",
    "f(c,z,l_1) = 0\n",
    "$$\n",
    "$$\n",
    "h(z,g,l_2) = 0\n",
    "$$\n",
    "and the corresponding Lagrangian is\n",
    "$$\n",
    "\\mathcal{L}^{RP} = U(c,1-(l_1+l_2)) + \\lambda^{RP}[cU_c - U_l(l_1+l_2)] +\\eta^{RP} [-f(c,z,l_1)] + \\mu^{RP}[-h(z,g,l_2)].\n",
    "$$\n",
    "The first-order conditions of this problem are\n",
    "$$\n",
    "\\left[c\\right]: 0 = U_c + \\lambda^{RP}\\{cU_{cc} + U_c - U_{lc}(l_1+l_2)\\} - \\eta^{RP} f_c\n",
    "$$\n",
    "$$\n",
    "\\left[z\\right]:  0=- \\eta^{RP} f_z - \\mu^{RP}h_z\n",
    "$$\n",
    "$$\n",
    "\\left[l_1\\right]: 0 = -U_l + \\lambda^{RP}\\{cU_{cl} -[-U_{ll}(l_1+l_2)+ U_l]\\} - \\eta^{RP}f_{l_1}\n",
    "$$\n",
    "$$\n",
    "\\left[l_2\\right]: 0 = -U_l + \\lambda^{RP}\\{cU_{cl} -[-U_{ll}(l_1+l_2)+ U_l]\\} - \\mu^{RP}h_{l_2}\n",
    "$$"
   ]
  },
  {
   "cell_type": "markdown",
   "metadata": {},
   "source": [
    "From the first-order conditions on $l_1$ and $l_2$\n",
    "$$\n",
    "-U_l + \\lambda^{RP}\\{cU_{cl} -[-U_{ll}(l_1+l_2)+ U_l]\\} -\\eta^{RP}f_{l_1} =  -U_l + \\lambda^{RP}\\{cU_{cl} -[-U_{ll}(l_1+l_2)+ U_l]\\} -\\mu^{RP}h_{l_2}\n",
    "$$\n",
    "$$\n",
    "\\implies \\eta^{RP}f_{l_1} = \\mu^{RP}h_{l_2} \\tag{1}\n",
    "$$\n",
    "and, rearranging the first-order condition for $z$,\n",
    "$$\n",
    "\\eta^{RP}f_z  = -\\mu^{RP}h_z \\tag{2}\n",
    "$$\n",
    "and, dividing $(2)$ by $(1)$ we obtain\n",
    "$$\n",
    "\\frac{f_z}{f_{l_1}} = -\\frac{h_z}{h_{l_2}} \\tag{3}\n",
    "$$\n",
    "This is the key equation in this environment."
   ]
  },
  {
   "cell_type": "markdown",
   "metadata": {},
   "source": [
    "We now solve the decentralised economy and compare with $(3)$."
   ]
  },
  {
   "cell_type": "markdown",
   "metadata": {},
   "source": [
    "##### **Decentralised Economy**"
   ]
  },
  {
   "cell_type": "markdown",
   "metadata": {},
   "source": [
    "Setup the Lagrangians for the final good firm and the intermediate good firm\n",
    "$$\n",
    "\\mathcal{L}^{F} = pc - wl_1 - q(1+\\tau_z)z + \\lambda^F[f(c,z,l_1)]\n",
    "$$\n",
    "$$\n",
    "\\mathcal{L}^{I} = qz + rg - wl_2 + \\lambda^I[h(z,g,l_2)]\n",
    "$$\n",
    "and the corresponding first-order conditions for the final good firm are\n",
    "$$\n",
    "\\left[z\\right]: q(1+\\tau_z) + \\lambda^F f_z = 0 \\implies q = \\frac{\\lambda^F f_z}{(1+\\tau_z)}\n",
    "$$\n",
    "$$\n",
    "\\left[l_1\\right]: -w + \\lambda^F f_{l_1} = 0 \\implies w = \\lambda^F f_{l_1}\n",
    "$$\n",
    "and for the intermediate good firm\n",
    "$$\n",
    "\\left[z\\right]: q + \\lambda^I h_z = 0 \\implies q = -\\lambda^I h_z\n",
    "$$\n",
    "$$\n",
    "\\left[l_2\\right]: -w + \\lambda^I h_{l_2} = 0 \\implies w = \\lambda^I h_{l_2} \n",
    "$$\n"
   ]
  },
  {
   "cell_type": "markdown",
   "metadata": {},
   "source": [
    "We obtain\n",
    "$$\n",
    "\\frac{q}{w} = \\frac{f_z}{f_{l_1}(1+\\tau_z)} = -\\frac{h_z}{h_{l_2}}\n",
    "$$\n",
    "$$\n",
    "\\implies - \\frac{f_z}{f_{l_1}(1+\\tau_z)} = \\frac{h_z}{h_{l_2}} \\tag{4}\n",
    "$$\n",
    "Hence, the only way that $(3)$ and $(4)$ can line up is if $\\tau_z=0$."
   ]
  }
 ],
 "metadata": {
  "kernelspec": {
   "display_name": "Julia 1.10.1",
   "language": "julia",
   "name": "julia-1.10"
  },
  "language_info": {
   "file_extension": ".jl",
   "mimetype": "application/julia",
   "name": "julia",
   "version": "1.10.1"
  }
 },
 "nbformat": 4,
 "nbformat_minor": 2
}
