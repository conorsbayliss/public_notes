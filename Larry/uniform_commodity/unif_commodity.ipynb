{
 "cells": [
  {
   "cell_type": "markdown",
   "metadata": {},
   "source": [
    "# **Uniform Commodity Taxation**"
   ]
  },
  {
   "cell_type": "markdown",
   "metadata": {},
   "source": [
    "## *Conor Bayliss*"
   ]
  },
  {
   "cell_type": "markdown",
   "metadata": {},
   "source": [
    "### **Spring 2024**"
   ]
  },
  {
   "cell_type": "markdown",
   "metadata": {},
   "source": [
    "#### **Key Idea**"
   ]
  },
  {
   "cell_type": "markdown",
   "metadata": {},
   "source": [
    "- If preferences are homothetic, then commodity taxes should be the same for all goods."
   ]
  },
  {
   "cell_type": "markdown",
   "metadata": {},
   "source": [
    "#### **Setup**"
   ]
  },
  {
   "cell_type": "markdown",
   "metadata": {},
   "source": [
    "- Consider an economy with J consumption goods.\n",
    "- Preferences are of the form:\n",
    "$$\n",
    "U(c_1, \\ldots, c_J;1-n)\n",
    "$$\n",
    "- The government can also consume some of each good. Let government spending on each good $i$ be given by $g_i, \\forall i$.\n",
    "- There is a production function of the form:\n",
    "$$\n",
    "F(c_1+g_1,\\ldots,c_J+g_J;n)\\leq 0.\n",
    "$$\n",
    "- **Note:** You could also write this in the following form:\n",
    "$$\n",
    "F_1(c_1+g_1,\\ldots,c_J+g_J)\\leq F_2(n)\n",
    "$$\n",
    "- Assume that F is constant returns to scale. Ofcourse, this ensures that there are no profits floating around.\n",
    "- Let the price of each commodity $j$ be $p_j$ and let the wage in this economy be $w$.\n",
    "- **Note:** We must set the labour income tax, $\\tau_n$ equal to 0. Otherwise, the planner will want to use it, and it can be shown to be equivalent to lump-sum taxation."
   ]
  },
  {
   "cell_type": "markdown",
   "metadata": {},
   "source": [
    "#### **Household's problem**\n",
    "As is usual in these kinds of problems, the household will choose how much of each good to consume, and how much labour to supply, subject to its budget constraint. Mathematically, the household solves\n",
    "$$\n",
    "\\max_{\\{\\{c_j\\}_j,n\\}} U(c_1,\\ldots,c_J;1-n) \\\\\n",
    "s.t. \\quad \\sum_j p_j (1+\\tau_j) c_j \\leq wn \\\\\n",
    "c_j \\geq 0, \\quad \\forall i \\\\\n",
    "n \\geq 0\n",
    "$$"
   ]
  },
  {
   "cell_type": "markdown",
   "metadata": {},
   "source": [
    "#### **Firm's problem**\n",
    "The firm will maximise profits subject to its production function and a bunch of non-negativity constraints\n",
    "$$ \n",
    "\\max_{\\{\\{c^f_j\\}_j,n^f\\}} \\sum_j p_j c^f_j - wn^f \\\\\n",
    "s.t. \\quad F(c_1^f,\\ldots,c_J^f;n^f)\\leq 0 \\\\\n",
    "c^f_i \\geq 0, \\forall i \\\\\n",
    "n^f \\geq 0 \\\\\n",
    "$$"
   ]
  },
  {
   "cell_type": "markdown",
   "metadata": {},
   "source": [
    "#### **Market clearing**\n",
    "Ofcourse, markets must also clear in this economy\n",
    "$$\n",
    "c^f_j = c_j + g_j, \\forall j \\\\\n",
    "n^f = n\n",
    "$$"
   ]
  },
  {
   "cell_type": "markdown",
   "metadata": {},
   "source": [
    "#### **Government budget balance**\n",
    "Finally, the government's budget must balance. Recall that they raise revenue via taxing the household's consumption of each of the $J$ goods, and buy some of each good.\n",
    "$$\n",
    "\\underbrace{\\sum_j p_j \\tau_j c_j}_\\text{revenue} = \\underbrace{\\sum_j p_j g_j}_\\text{spending}\n",
    "$$"
   ]
  },
  {
   "cell_type": "markdown",
   "metadata": {},
   "source": [
    "#### **Ramsey problem**\n",
    "Set $\\tau_1 = \\ldots = \\tau_J$ such that the resulting Tax Distorted Competitive Equilibrium (TDCE) satisfies market clearing and gov't budget balance in order to maximise $U$."
   ]
  },
  {
   "cell_type": "markdown",
   "metadata": {},
   "source": [
    "#### ***Proposition 1***\n",
    "Assume enough interiority and differentiability such that the first-order conditions charactierise the TDCE allocations. Then, a TDCE allocation satisfies:\n",
    "1. **Feasibility**\n",
    "$$\n",
    "F(c_1+g_1,\\ldots,c_J+g_J) = 0\n",
    "$$\n",
    "2. **Implementability**\n",
    "$$\n",
    "\\sum_j U_j c_j = U_l n\n",
    "$$\n",
    "Conversely, if an allocation satisfies 1. and 2. there exists proces and taxes such that the allocation and prices for a TDCE."
   ]
  },
  {
   "cell_type": "markdown",
   "metadata": {},
   "source": [
    "#### ***Proof***\n",
    "Let us set up the Lagarangians for the household and the firm, and derive the first-order conditions\n",
    "$$\n",
    "\\mathcal{L^H} = U(c_1,\\ldots,c_J;1-n) + \\lambda\\left[wn - \\sum_j p_j(1+\\tau_j)c_j \\right] \n",
    "$$\n",
    "$$\n",
    "\\left[c_i \\right]: \\quad U_i - \\lambda p_i (1+\\tau_i) = 0 \\implies U_i = \\lambda p_i (1+\\tau_i)\n",
    "$$\n",
    "$$\n",
    "\\left[c_j \\right]: \\quad U_j - \\lambda p_j (1+\\tau_j) = 0 \\implies U_j = \\lambda p_j (1+\\tau_j)\n",
    "$$\n",
    "$$\n",
    "\\left[n \\right]: \\quad -U_l + \\lambda w = 0 \\implies U_l =  \\lambda w\n",
    "$$\n",
    "So, the marginal rate of substitution between two consumption varieties is given by\n",
    "$$\n",
    "\\frac{U_i}{U_j} = \\frac{p_i(1+\\tau_i)}{p_j(1+\\tau_j)}, \\quad \\forall i,j \\in \\{1,\\ldots,J\\}\n",
    "$$\n",
    "and between any consumption variety and labour is\n",
    "$$\n",
    "\\frac{U_l}{U_j} = \\frac{w}{p_j(1+\\tau_j)}, \\quad \\forall j \\in \\{1,\\ldots,J\\}.\n",
    "$$"
   ]
  },
  {
   "cell_type": "markdown",
   "metadata": {},
   "source": [
    "To derive the implementability constraint, we proceed as follows\n",
    "1. Take the consumer's budget constraint\n",
    "$$\n",
    "\\sum_j p_j (1+\\tau_j) c_j = wn\n",
    "$$\n",
    "2. Plug in $p_j(1+\\tau_j) = \\frac{U_j}{\\lambda}$ and find\n",
    "$$\n",
    "\\frac{1}{\\lambda}\\sum_j U_j c_j = wn\n",
    "$$\n",
    "3. Plug in $w = \\frac{U_l}{\\lambda}$ and obtain\n",
    "$$\n",
    "\\frac{1}{\\lambda} \\sum_j U_j c_j = \\frac{1}{\\lambda} U_l n\n",
    "$$\n",
    "4. Cancel out the multipliers and find\n",
    "$$\n",
    "\\sum_j U_j c_j = U_ln.\n",
    "$$"
   ]
  },
  {
   "cell_type": "markdown",
   "metadata": {},
   "source": [
    "Conversely, if an allocation satisfies\n",
    "1. **Feasibility**\n",
    "$$\n",
    "F(c_1+g_1,\\ldots,c_J+g_J;n) \\leq 0\n",
    "$$\n",
    "and\n",
    "2. **Implementability**\n",
    "$$\n",
    "\\sum_j U_j c_j = U_l n\n",
    "$$\n",
    "then define\n",
    "$$\n",
    "c_j^f = c_j + g_j\n",
    "$$\n",
    "and define prices and taxes according to\n",
    "$$\n",
    "\\frac{p_j}{w} = -\\frac{F_j}{F_n}\n",
    "$$\n",
    "$$\n",
    "(1+\\tau_j) = -\\frac{U_j}{U_l}\\frac{F_n}{F_j}\n",
    "$$\n",
    "where we note that these conditions have come from the firm's and household's Lagrangians. To see this, note that we can write the firm's problem as\n",
    "$$\n",
    "\\mathcal{L^F} = \\sum_j p_j c^f_j - wn^f - \\mu \\left[F(c^f_1,\\ldots,c^f_J;n^f) \\right]\n",
    "$$\n",
    "and the first-order conditions are\n",
    "$$\n",
    "\\left[c(f_j)\\right]: p_j - \\mu F_j = 0 \\implies p_j = \\mu F_j \\\\\n",
    "\\left[n^f\\right]: -w -\\mu F_n = 0 \\implies w = -F_n \\\\\n",
    "$$\n",
    "$$\n",
    "\\implies \\frac{p_j}{w} = -\\frac{F_j}{F_n}.\n",
    "$$\n",
    "Recall from the household's problem that\n",
    "$$\n",
    "\\frac{p_j(1+\\tau_j)}{w} = \\frac{U_j}{U_l}\n",
    "$$\n",
    "and so\n",
    "$$\n",
    "(1+\\tau_j) = -\\frac{U_j}{U_l}\\frac{F_n}{F_j}\n",
    "$$"
   ]
  },
  {
   "cell_type": "markdown",
   "metadata": {},
   "source": [
    "#### **Ramsey Problem**\n",
    "Here we formally state the Ramsey problem. The planner solves\n",
    "$$\n",
    "\\max_{\\{\\{c_j\\}_j,n\\}} U(c_1,\\ldots,c_J;1-n) \\\\\n",
    "s.t. \\quad F(c_1+g_1,\\ldots,c_J+g_J;n) = 0 \\\\\n",
    "\\sum_j U_j c_j = U_l n \\\\\n",
    "$$"
   ]
  },
  {
   "cell_type": "markdown",
   "metadata": {},
   "source": [
    "#### ***Proposition 2***\n",
    "Suppose that $U$ satisfies \n",
    "$$\n",
    "U(c,l) = W(G(c),l)\n",
    "$$\n",
    "and that G is homothetic. Then, at the solution to the Ramsey problem, $\\tau_i - \\tau_j, \\forall i,j \\in \\{1,\\ldots,J\\}$. "
   ]
  },
  {
   "cell_type": "markdown",
   "metadata": {},
   "source": [
    "Alternatively, one could write the Proposition as in Chari-Kehoe."
   ]
  },
  {
   "cell_type": "markdown",
   "metadata": {},
   "source": [
    "#### ***Proposition 3***\n",
    "Suppose that the utillity is weakly separable across consumption goods and is homothetic in consumption. Then $U_i/U_j = F_i/F_j$ for $i,j \\in \\{1,\\ldots,J\\}$. That is, optimal commodity taxes are uniform in the sense that the Ramsey taxes satisfy $\\tau_i = \\tau_j, \\quad \\forall i,j \\in \\{1,\\ldots,J\\}$."
   ]
  },
  {
   "cell_type": "markdown",
   "metadata": {},
   "source": [
    "#### **Technical Aside**\n",
    "First, a techincal result concerning homothetic preferences of the form\n",
    "$$\n",
    "U(c,l) = W(G(c),l)\n",
    "$$\n",
    "Rewrite the above as follows for clarity of exposition\n",
    "$$\n",
    "U(c_1,\\ldots,c_J;l) = W(G(c_1, \\ldots,c_J);l)\n",
    "$$\n",
    "and take the derivative with respect to $c_i$\n",
    "$$\n",
    "U_i(c_1,\\ldots,c_J;l)= W_1(G(c_1, \\ldots,c_J);l)G_i(c_1, \\ldots,c_J)\n",
    "$$\n",
    "and so we see\n",
    "$$\n",
    "\\frac{U_i(c;l)}{U_j(c;l)} = \\frac{W_1(G(c_1, \\ldots,c_J);l)G_i(c_1, \\ldots,c_J)}{W_1(G(c_1, \\ldots,c_J);l)G_j(c_1, \\ldots,c_J)} = \\frac{G_i(c)}{G_j(c)}, \\quad \\forall i,j \\in \\{1,\\ldots,J\\}\n",
    "$$\n",
    "and then by homotheticity the following must hold for all $\\alpha$\n",
    "$$\n",
    "\\frac{G_i(\\alpha c)}{G_j(\\alpha c)} = \\frac{G_i(c)}{G_j(c)}, \\quad \\forall i,j \\in \\{1,\\ldots,J\\} \n",
    "$$\n",
    "and so\n",
    "$$\n",
    "\\frac{U_i(\\alpha c;l)}{U_j(\\alpha c;l)} = \\frac{G_i(\\alpha c)}{G_j(\\alpha c)} = \\frac{G_i(c)}{G_j(c)} = \\frac{U_i(c;l)}{U_j(c;l)}, \\quad \\forall i,j \\in \\{1,\\ldots,J\\}. \n",
    "$$\n",
    "Now, we must differentiate the above with respect to $\\alpha$ and evaluate at $\\alpha = 1$. That is, at our initial consumption bundle. To do so, rewrite as follows\n",
    "$$\n",
    "U_i(\\alpha c;l) = \\left[\\frac{U_i(c;l)}{U_j(c;l)}\\right]U_j(\\alpha c;l)\n",
    "$$\n",
    "and find\n",
    "$$\n",
    "\\sum_k c_k U_{ik}(\\alpha c;l) = \\left[\\frac{U_i(c;l)}{U_j(c;l)}\\right] \\sum_k c_k U_{jk}(\\alpha c;l)\n",
    "$$\n",
    "$$\n",
    "\\sum_k c_k \\frac{U_{ik}(\\alpha c;l)}{U_i(c;l)} = \\sum_k c_k \\frac{U_{jk}(\\alpha c;l)}{U_j(c;l)}\n",
    "$$\n",
    "since as we change $\\alpha$ we change the consumption of each variety and utility responds to this change. Then evaluate at $\\alpha = 1$ and find\n",
    "$$\n",
    "\\sum_k c_k \\frac{U_{ik}}{U_i} = \\sum_k c_k \\frac{U_{jk}}{U_j}\n",
    "$$\n",
    "where we have dropped $(c;l)$ from our notation. From the above, rewrite\n",
    "$$\n",
    "\\sum_k c_k U_{ik} = A U_i\n",
    "$$\n",
    "where $A$ is  $\\sum_k c_k \\frac{U_{jk}(\\alpha c;l)}{U_j(c;l)}$ for $j \\in \\{1,\\ldots,J\\}$."
   ]
  },
  {
   "cell_type": "markdown",
   "metadata": {},
   "source": []
  }
 ],
 "metadata": {
  "language_info": {
   "name": "python"
  }
 },
 "nbformat": 4,
 "nbformat_minor": 2
}
